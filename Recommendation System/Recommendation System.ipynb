{
 "cells": [
  {
   "cell_type": "markdown",
   "id": "86d8cda3-fadd-49c5-8e8f-d5541970dd0d",
   "metadata": {},
   "source": [
    "Anime Recommendation System assignment"
   ]
  },
  {
   "cell_type": "code",
   "execution_count": 2,
   "id": "d670284b-4ad8-4858-8425-ae362a83509c",
   "metadata": {},
   "outputs": [],
   "source": [
    "#Step 1: Data Preprocessing"
   ]
  },
  {
   "cell_type": "code",
   "execution_count": 4,
   "id": "c3d7e08f-0998-4899-8382-845d57c4de28",
   "metadata": {},
   "outputs": [
    {
     "name": "stdout",
     "output_type": "stream",
     "text": [
      "   anime_id                              name  \\\n",
      "0     32281                    Kimi no Na wa.   \n",
      "1      5114  Fullmetal Alchemist: Brotherhood   \n",
      "2     28977                         GintamaÂ°   \n",
      "3      9253                       Steins;Gate   \n",
      "4      9969                     Gintama&#039;   \n",
      "\n",
      "                                               genre   type episodes  rating  \\\n",
      "0               Drama, Romance, School, Supernatural  Movie        1    9.37   \n",
      "1  Action, Adventure, Drama, Fantasy, Magic, Mili...     TV       64    9.26   \n",
      "2  Action, Comedy, Historical, Parody, Samurai, S...     TV       51    9.25   \n",
      "3                                   Sci-Fi, Thriller     TV       24    9.17   \n",
      "4  Action, Comedy, Historical, Parody, Samurai, S...     TV       51    9.16   \n",
      "\n",
      "   members  \n",
      "0   200630  \n",
      "1   793665  \n",
      "2   114262  \n",
      "3   673572  \n",
      "4   151266  \n",
      "<class 'pandas.core.frame.DataFrame'>\n",
      "RangeIndex: 12294 entries, 0 to 12293\n",
      "Data columns (total 7 columns):\n",
      " #   Column    Non-Null Count  Dtype  \n",
      "---  ------    --------------  -----  \n",
      " 0   anime_id  12294 non-null  int64  \n",
      " 1   name      12294 non-null  object \n",
      " 2   genre     12232 non-null  object \n",
      " 3   type      12269 non-null  object \n",
      " 4   episodes  12294 non-null  object \n",
      " 5   rating    12064 non-null  float64\n",
      " 6   members   12294 non-null  int64  \n",
      "dtypes: float64(1), int64(2), object(4)\n",
      "memory usage: 672.5+ KB\n",
      "None\n",
      "           anime_id        rating       members\n",
      "count  12294.000000  12064.000000  1.229400e+04\n",
      "mean   14058.221653      6.473902  1.807134e+04\n",
      "std    11455.294701      1.026746  5.482068e+04\n",
      "min        1.000000      1.670000  5.000000e+00\n",
      "25%     3484.250000      5.880000  2.250000e+02\n",
      "50%    10260.500000      6.570000  1.550000e+03\n",
      "75%    24794.500000      7.180000  9.437000e+03\n",
      "max    34527.000000     10.000000  1.013917e+06\n",
      "anime_id      0\n",
      "name          0\n",
      "genre        62\n",
      "type         25\n",
      "episodes      0\n",
      "rating      230\n",
      "members       0\n",
      "dtype: int64\n"
     ]
    }
   ],
   "source": [
    "import pandas as pd\n",
    "\n",
    "# Load dataset\n",
    "anime = pd.read_excel(\"anime.xlsx\")\n",
    "\n",
    "# Explore dataset\n",
    "print(anime.head())\n",
    "print(anime.info())\n",
    "print(anime.describe())\n",
    "\n",
    "# Check for missing values\n",
    "print(anime.isnull().sum())\n",
    "\n",
    "# Handle missing values (example: fill NaN genres with 'Unknown')\n",
    "anime['genre'] = anime['genre'].fillna('Unknown')\n"
   ]
  },
  {
   "cell_type": "code",
   "execution_count": 6,
   "id": "9e0e66cc-3f2f-4894-a617-1b6a70e02f0d",
   "metadata": {},
   "outputs": [],
   "source": [
    "#Step 2: Feature Extraction"
   ]
  },
  {
   "cell_type": "markdown",
   "id": "b2f3b286-3df0-4586-a225-bf20dc26dd9e",
   "metadata": {},
   "source": [
    "We will use genres and rating to compute similarity.\n",
    "\n",
    "Step 2.1: Convert genres into numeric using One-Hot Encoding\n",
    "\n"
   ]
  },
  {
   "cell_type": "code",
   "execution_count": 10,
   "id": "0242703b-c9e0-4526-ab9e-3cffd2fd5bdc",
   "metadata": {},
   "outputs": [
    {
     "name": "stdout",
     "output_type": "stream",
     "text": [
      "    Adventure   Cars   Comedy   Dementia   Demons   Drama   Ecchi   Fantasy  \\\n",
      "0           0      0        0          0        0       0       0         0   \n",
      "1           1      0        0          0        0       1       0         1   \n",
      "2           0      0        1          0        0       0       0         0   \n",
      "3           0      0        0          0        0       0       0         0   \n",
      "4           0      0        1          0        0       0       0         0   \n",
      "\n",
      "    Game   Harem  ...  Slice of Life  Space  Sports  Super Power  \\\n",
      "0      0       0  ...              0      0       0            0   \n",
      "1      0       0  ...              0      0       0            0   \n",
      "2      0       0  ...              0      0       0            0   \n",
      "3      0       0  ...              0      0       0            0   \n",
      "4      0       0  ...              0      0       0            0   \n",
      "\n",
      "   Supernatural  Thriller  Unknown  Vampire  Yaoi  rating  \n",
      "0             0         0        0        0     0    9.37  \n",
      "1             0         0        0        0     0    9.26  \n",
      "2             0         0        0        0     0    9.25  \n",
      "3             0         0        0        0     0    9.17  \n",
      "4             0         0        0        0     0    9.16  \n",
      "\n",
      "[5 rows x 84 columns]\n"
     ]
    }
   ],
   "source": [
    "# Split genres by comma and one-hot encode\n",
    "anime['genre'] = anime['genre'].astype(str)\n",
    "genre_dummies = anime['genre'].str.get_dummies(sep=',')\n",
    "\n",
    "# Combine with rating\n",
    "features = pd.concat([genre_dummies, anime[['rating']].fillna(anime['rating'].mean())], axis=1)\n",
    "\n",
    "print(features.head())\n"
   ]
  },
  {
   "cell_type": "code",
   "execution_count": 12,
   "id": "b064a0d9-e958-40d9-a59e-1090a2e24e9e",
   "metadata": {},
   "outputs": [],
   "source": [
    "#Step 2.2: Normalize features (optional for rating)"
   ]
  },
  {
   "cell_type": "code",
   "execution_count": 14,
   "id": "1eae465a-8f58-4b13-8305-1b0157c22006",
   "metadata": {},
   "outputs": [],
   "source": [
    "from sklearn.preprocessing import MinMaxScaler\n",
    "\n",
    "scaler = MinMaxScaler()\n",
    "features[['rating']] = scaler.fit_transform(features[['rating']])\n"
   ]
  },
  {
   "cell_type": "code",
   "execution_count": 16,
   "id": "28d7e36b-26d0-4007-862e-10dbc9fc1805",
   "metadata": {},
   "outputs": [],
   "source": [
    "#Step 3: Recommendation System using Cosine Similarity"
   ]
  },
  {
   "cell_type": "code",
   "execution_count": 18,
   "id": "d4435182-1d53-4419-b1f4-3f1c8c1af5e2",
   "metadata": {},
   "outputs": [
    {
     "data": {
      "text/plain": [
       "array(['Naruto: Shippuuden',\n",
       "       'Boruto: Naruto the Movie - Naruto ga Hokage ni Natta Hi',\n",
       "       'Boruto: Naruto the Movie', 'Naruto x UT',\n",
       "       'Naruto: Shippuuden Movie 4 - The Lost Tower'], dtype=object)"
      ]
     },
     "execution_count": 18,
     "metadata": {},
     "output_type": "execute_result"
    }
   ],
   "source": [
    "from sklearn.metrics.pairwise import cosine_similarity\n",
    "\n",
    "# Compute cosine similarity between all anime\n",
    "cos_sim = cosine_similarity(features)\n",
    "\n",
    "# Create a function to get top N recommendations\n",
    "def recommend_anime(anime_title, anime_df, similarity_matrix, top_n=5):\n",
    "    # Get index of target anime\n",
    "    idx = anime_df[anime_df['name'] == anime_title].index[0]\n",
    "    \n",
    "    # Get similarity scores for this anime\n",
    "    sim_scores = list(enumerate(similarity_matrix[idx]))\n",
    "    \n",
    "    # Sort by similarity score in descending order\n",
    "    sim_scores = sorted(sim_scores, key=lambda x: x[1], reverse=True)\n",
    "    \n",
    "    # Get top N indices (skip first one because it is the anime itself)\n",
    "    top_indices = [i[0] for i in sim_scores[1:top_n+1]]\n",
    "    \n",
    "    # Return recommended anime names\n",
    "    return anime_df['name'].iloc[top_indices].values\n",
    "\n",
    "# Example recommendation\n",
    "recommend_anime(\"Naruto\", anime, cos_sim, top_n=5)\n"
   ]
  },
  {
   "cell_type": "code",
   "execution_count": 20,
   "id": "8cffbaf4-74da-4091-a3f5-63c102516228",
   "metadata": {},
   "outputs": [],
   "source": [
    "#Step 4: Evaluation"
   ]
  },
  {
   "cell_type": "markdown",
   "id": "8e8bcf91-527f-4e38-9972-106711a02d3e",
   "metadata": {},
   "source": [
    "Split dataset into training/testing is not always necessary for content-based recommendation (cosine similarity).\n",
    "\n",
    "Can evaluate by precision@k or recall@k if you have user-item interactions (ratings per user).\n",
    "\n",
    "Otherwise, analyze recommendations qualitatively:\n",
    "\n",
    "Do the recommended anime match the genres of the target anime?\n",
    "\n",
    "Are the top-rated anime appearing in recommendations?"
   ]
  },
  {
   "cell_type": "code",
   "execution_count": 23,
   "id": "d5e1ee96-238c-45bc-94b9-5587c87a11eb",
   "metadata": {},
   "outputs": [],
   "source": [
    "#Step 5: Interview Questions"
   ]
  },
  {
   "cell_type": "markdown",
   "id": "2a36e81b-e2fb-42e3-80fa-98596ce825a2",
   "metadata": {},
   "source": [
    "Difference between user-based and item-based collaborative filtering:\n",
    "\n",
    "User-based: recommends items liked by similar users.\n",
    "\n",
    "Item-based: recommends items similar to items a user liked.\n",
    "\n",
    "What is collaborative filtering, and how does it work?\n",
    "\n",
    "Collaborative filtering uses user behavior (ratings/purchases) to find patterns.\n",
    "\n",
    "It assumes users with similar tastes will like similar items."
   ]
  },
  {
   "cell_type": "code",
   "execution_count": 26,
   "id": "35752637-d6f0-4f43-b616-382bdd36a6e5",
   "metadata": {},
   "outputs": [],
   "source": [
    "#Anime Recommendation System – Complete Notebook#"
   ]
  },
  {
   "cell_type": "code",
   "execution_count": 28,
   "id": "f1dafb6e-d95a-42c2-9f9e-de403275a62a",
   "metadata": {},
   "outputs": [
    {
     "name": "stdout",
     "output_type": "stream",
     "text": [
      "First 5 rows:\n",
      "   anime_id                              name  \\\n",
      "0     32281                    Kimi no Na wa.   \n",
      "1      5114  Fullmetal Alchemist: Brotherhood   \n",
      "2     28977                         GintamaÂ°   \n",
      "3      9253                       Steins;Gate   \n",
      "4      9969                     Gintama&#039;   \n",
      "\n",
      "                                               genre   type episodes  rating  \\\n",
      "0               Drama, Romance, School, Supernatural  Movie        1    9.37   \n",
      "1  Action, Adventure, Drama, Fantasy, Magic, Mili...     TV       64    9.26   \n",
      "2  Action, Comedy, Historical, Parody, Samurai, S...     TV       51    9.25   \n",
      "3                                   Sci-Fi, Thriller     TV       24    9.17   \n",
      "4  Action, Comedy, Historical, Parody, Samurai, S...     TV       51    9.16   \n",
      "\n",
      "   members  \n",
      "0   200630  \n",
      "1   793665  \n",
      "2   114262  \n",
      "3   673572  \n",
      "4   151266  \n",
      "\n",
      "Dataset Info:\n",
      "<class 'pandas.core.frame.DataFrame'>\n",
      "RangeIndex: 12294 entries, 0 to 12293\n",
      "Data columns (total 7 columns):\n",
      " #   Column    Non-Null Count  Dtype  \n",
      "---  ------    --------------  -----  \n",
      " 0   anime_id  12294 non-null  int64  \n",
      " 1   name      12294 non-null  object \n",
      " 2   genre     12232 non-null  object \n",
      " 3   type      12269 non-null  object \n",
      " 4   episodes  12294 non-null  object \n",
      " 5   rating    12064 non-null  float64\n",
      " 6   members   12294 non-null  int64  \n",
      "dtypes: float64(1), int64(2), object(4)\n",
      "memory usage: 672.5+ KB\n",
      "None\n",
      "\n",
      "Missing Values:\n",
      "anime_id      0\n",
      "name          0\n",
      "genre        62\n",
      "type         25\n",
      "episodes      0\n",
      "rating      230\n",
      "members       0\n",
      "dtype: int64\n",
      "\n",
      "Feature matrix:\n",
      "    Adventure   Cars   Comedy   Dementia   Demons   Drama   Ecchi   Fantasy  \\\n",
      "0           0      0        0          0        0       0       0         0   \n",
      "1           1      0        0          0        0       1       0         1   \n",
      "2           0      0        1          0        0       0       0         0   \n",
      "3           0      0        0          0        0       0       0         0   \n",
      "4           0      0        1          0        0       0       0         0   \n",
      "\n",
      "    Game   Harem  ...  Slice of Life  Space  Sports  Super Power  \\\n",
      "0      0       0  ...              0      0       0            0   \n",
      "1      0       0  ...              0      0       0            0   \n",
      "2      0       0  ...              0      0       0            0   \n",
      "3      0       0  ...              0      0       0            0   \n",
      "4      0       0  ...              0      0       0            0   \n",
      "\n",
      "   Supernatural  Thriller  Unknown  Vampire  Yaoi    rating  \n",
      "0             0         0        0        0     0  0.924370  \n",
      "1             0         0        0        0     0  0.911164  \n",
      "2             0         0        0        0     0  0.909964  \n",
      "3             0         0        0        0     0  0.900360  \n",
      "4             0         0        0        0     0  0.899160  \n",
      "\n",
      "[5 rows x 84 columns]\n",
      "\n",
      "Top 5 recommendations for 'Naruto':\n",
      "['Naruto: Shippuuden'\n",
      " 'Boruto: Naruto the Movie - Naruto ga Hokage ni Natta Hi'\n",
      " 'Boruto: Naruto the Movie' 'Naruto x UT'\n",
      " 'Naruto: Shippuuden Movie 4 - The Lost Tower']\n",
      "\n",
      "Evaluation Notes:\n",
      "- Precision, recall, or F1-score can be computed if user-item interactions are available.\n",
      "- Otherwise, evaluate recommendations qualitatively: Do genres match? Are popular animes included?\n"
     ]
    }
   ],
   "source": [
    "# Step 1: Import Libraries\n",
    "import pandas as pd\n",
    "from sklearn.preprocessing import MinMaxScaler\n",
    "from sklearn.metrics.pairwise import cosine_similarity\n",
    "\n",
    "# Step 2: Load Dataset\n",
    "anime = pd.read_excel(\"anime.xlsx\")\n",
    "\n",
    "# Explore Dataset\n",
    "print(\"First 5 rows:\")\n",
    "print(anime.head())\n",
    "print(\"\\nDataset Info:\")\n",
    "print(anime.info())\n",
    "print(\"\\nMissing Values:\")\n",
    "print(anime.isnull().sum())\n",
    "\n",
    "# Fill missing genres\n",
    "anime['genre'] = anime['genre'].fillna('Unknown')\n",
    "\n",
    "# Step 3: Feature Extraction\n",
    "# One-hot encode genres\n",
    "anime['genre'] = anime['genre'].astype(str)\n",
    "genre_dummies = anime['genre'].str.get_dummies(sep=',')\n",
    "\n",
    "# Combine with normalized rating\n",
    "features = pd.concat([genre_dummies, anime[['rating']].fillna(anime['rating'].mean())], axis=1)\n",
    "scaler = MinMaxScaler()\n",
    "features[['rating']] = scaler.fit_transform(features[['rating']])\n",
    "\n",
    "print(\"\\nFeature matrix:\")\n",
    "print(features.head())\n",
    "\n",
    "# Step 4: Compute Cosine Similarity\n",
    "cos_sim = cosine_similarity(features)\n",
    "\n",
    "# Step 5: Recommendation Function\n",
    "def recommend_anime(anime_title, anime_df, similarity_matrix, top_n=5):\n",
    "    # Check if anime exists\n",
    "    if anime_title not in anime_df['name'].values:\n",
    "        return f\"Anime '{anime_title}' not found in dataset.\"\n",
    "    \n",
    "    idx = anime_df[anime_df['name'] == anime_title].index[0]\n",
    "    sim_scores = list(enumerate(similarity_matrix[idx]))\n",
    "    sim_scores = sorted(sim_scores, key=lambda x: x[1], reverse=True)\n",
    "    top_indices = [i[0] for i in sim_scores[1:top_n+1]]\n",
    "    return anime_df['name'].iloc[top_indices].values\n",
    "\n",
    "# Example Recommendations\n",
    "target_anime = \"Naruto\"\n",
    "recommendations = recommend_anime(target_anime, anime, cos_sim, top_n=5)\n",
    "print(f\"\\nTop 5 recommendations for '{target_anime}':\")\n",
    "print(recommendations)\n",
    "\n",
    "# Step 6: Evaluation Notes\n",
    "print(\"\\nEvaluation Notes:\")\n",
    "print(\"- Precision, recall, or F1-score can be computed if user-item interactions are available.\")\n",
    "print(\"- Otherwise, evaluate recommendations qualitatively: Do genres match? Are popular animes included?\")\n"
   ]
  },
  {
   "cell_type": "code",
   "execution_count": 6,
   "id": "a2435bbe-9684-4f87-a569-64770fe11f30",
   "metadata": {},
   "outputs": [],
   "source": [
    "#### Corrections"
   ]
  },
  {
   "cell_type": "markdown",
   "id": "9ff859ac-b0bc-4189-b25c-755ab5f7c113",
   "metadata": {},
   "source": [
    "✅ 1. Evaluation Metrics Implementation (Precision, Recall, F1-Score)\n",
    "\n",
    "Since recommendation systems usually provide a list of recommended items, we will evaluate top-N recommendations using these metrics:\n",
    "\n",
    "Precision@N = Relevant items recommended / Total items recommended\n",
    "\n",
    "Recall@N = Relevant items recommended / Total relevant items\n",
    "\n",
    "F1-Score@N = 2 * (Precision * Recall) / (Precision + Recall)"
   ]
  },
  {
   "cell_type": "code",
   "execution_count": 9,
   "id": "b5676a28-20a2-4b8d-92d0-8b89268db986",
   "metadata": {},
   "outputs": [
    {
     "name": "stdout",
     "output_type": "stream",
     "text": [
      "Precision: 0.33, Recall: 1.00, F1-Score: 0.50\n"
     ]
    }
   ],
   "source": [
    "from sklearn.metrics import precision_score, recall_score, f1_score\n",
    "\n",
    "def evaluate_recommendations(actual_items, recommended_items):\n",
    "    \"\"\"\n",
    "    actual_items: list of relevant items (ground truth)\n",
    "    recommended_items: list of items recommended by the system\n",
    "    \"\"\"\n",
    "    # Convert to binary for comparison\n",
    "    y_true = [1 if item in actual_items else 0 for item in recommended_items]\n",
    "    y_pred = [1]*len(recommended_items)\n",
    "\n",
    "    precision = precision_score(y_true, y_pred, zero_division=0)\n",
    "    recall = recall_score(y_true, y_pred, zero_division=0)\n",
    "    f1 = f1_score(y_true, y_pred, zero_division=0)\n",
    "\n",
    "    return precision, recall, f1\n",
    "\n",
    "# Example Usage:\n",
    "actual = ['Movie A', 'Movie B', 'Movie C']\n",
    "recommended = ['Movie A', 'Movie D', 'Movie E']\n",
    "\n",
    "precision, recall, f1 = evaluate_recommendations(actual, recommended)\n",
    "print(f\"Precision: {precision:.2f}, Recall: {recall:.2f}, F1-Score: {f1:.2f}\")\n"
   ]
  },
  {
   "cell_type": "code",
   "execution_count": 11,
   "id": "0ddff6b9-3130-4239-a065-c15fd112f402",
   "metadata": {},
   "outputs": [],
   "source": [
    "##✅ 2. Analysis of Results\n"
   ]
  },
  {
   "cell_type": "markdown",
   "id": "1262d698-b121-46fb-97ca-d40ee8c0ae4a",
   "metadata": {},
   "source": [
    "After calculating metrics for multiple users:\n",
    "\n",
    "If Precision is high but Recall is low → Your recommendations are accurate but not covering enough relevant items.\n",
    "\n",
    "If Recall is high but Precision is low → You are recommending many items, but most are irrelevant.\n",
    "\n",
    "If F1-score is balanced → Your system is performing well.\n",
    "\n",
    "Improvements:\n",
    "\n",
    "Try different similarity measures (cosine, Pearson, Jaccard).\n",
    "\n",
    "Use matrix factorization (SVD) for better predictions.\n",
    "\n"
   ]
  },
  {
   "cell_type": "code",
   "execution_count": 14,
   "id": "a862e696-709a-420c-a6c6-a4152dd255e6",
   "metadata": {},
   "outputs": [],
   "source": [
    "##✅ 3. Interview Questions with Answers"
   ]
  },
  {
   "cell_type": "markdown",
   "id": "55a94134-d530-49e4-aa2c-7873fbc96624",
   "metadata": {},
   "source": [
    "Q1. What are the types of Recommendation Systems?\n",
    "\n",
    "Content-Based Filtering: Recommends similar items based on item features.\n",
    "\n",
    "Collaborative Filtering: Based on user-user or item-item similarity.\n",
    "\n",
    "Hybrid Systems: Combination of both.\n",
    "\n",
    "Q2. What is Cosine Similarity and why is it used?\n",
    "\n",
    "Cosine similarity measures the angle between two vectors (ignores magnitude).\n",
    "\n",
    "It is useful for text or rating-based similarity because it normalizes values.\n",
    "\n",
    "Q3. What are limitations of Content-Based Filtering?\n",
    "\n",
    "Requires detailed item features.\n",
    "\n",
    "Struggles with cold-start problem for new users or new items.\n",
    "\n",
    "Q4. How do you evaluate a Recommendation System?\n",
    "\n",
    "Metrics: Precision@K, Recall@K, F1-score@K, MAP, NDCG.\n",
    "\n",
    "Offline vs Online evaluation (A/B testing)."
   ]
  },
  {
   "cell_type": "code",
   "execution_count": null,
   "id": "fb2774f0-bf03-47c4-a4c6-4852bc922647",
   "metadata": {},
   "outputs": [],
   "source": []
  }
 ],
 "metadata": {
  "kernelspec": {
   "display_name": "Python [conda env:base] *",
   "language": "python",
   "name": "conda-base-py"
  },
  "language_info": {
   "codemirror_mode": {
    "name": "ipython",
    "version": 3
   },
   "file_extension": ".py",
   "mimetype": "text/x-python",
   "name": "python",
   "nbconvert_exporter": "python",
   "pygments_lexer": "ipython3",
   "version": "3.12.7"
  }
 },
 "nbformat": 4,
 "nbformat_minor": 5
}
